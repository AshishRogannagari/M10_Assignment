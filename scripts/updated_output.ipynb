{
 "cells": [
  {
   "cell_type": "markdown",
   "metadata": {},
   "source": [
    "## Module 10 Assignment - Scraping a Website\n",
    "* Author: Ashish Rogannagari\n",
    "* version 1.0\n",
    "\n",
    "We will be creating a web scraper to parse a table from the Charities Bureau Website. From the website: “All \n",
    "charitable organizations operating in New York State are required by law to register and file annual financial reports \n",
    "with the Attorney General's Office. This includes any organization that conducts charitable activities, holds property \n",
    "that is used for charitable purposes, or solicits financial or other contributions.”"
   ]
  },
  {
   "cell_type": "markdown",
   "metadata": {},
   "source": [
    "### Step 1.1: Load Modules and Setup WebDriver"
   ]
  },
  {
   "cell_type": "code",
   "execution_count": 1,
   "metadata": {},
   "outputs": [],
   "source": [
    "import pandas as pd\n",
    "from selenium import webdriver\n",
    "from selenium.webdriver.common.by import By\n",
    "from selenium.webdriver.chrome.service import Service\n",
    "from selenium.common.exceptions import NoSuchElementException\n",
    "from webdriver_manager.chrome import ChromeDriverManager\n",
    "from time import sleep\n",
    "\n",
    "# Set up WebDriver\n",
    "s = Service(ChromeDriverManager().install())\n",
    "browser = webdriver.Chrome(service=s)\n",
    "\n",
    "# Function to scrape the current page\n",
    "def scrape_current_page(browser):\n",
    "    table = browser.find_element(By.CSS_SELECTOR, 'table.Bordered')\n",
    "    data = []\n",
    "    for row in table.find_elements(By.CSS_SELECTOR, 'tr')[1:]:  # Skip the header row\n",
    "        cells = row.find_elements(By.CSS_SELECTOR, 'td')\n",
    "        if cells:  # Check if there are cells in the row\n",
    "            data.append([cell.text for cell in cells])\n",
    "    return data\n",
    "\n",
    "# Access the URL with WebDriver\n",
    "browser.get('https://www.charitiesnys.com/RegistrySearch/search_charities.jsp')\n",
    "\n",
    "# Find and input search criteria\n",
    "inputElement = browser.find_element(By.XPATH,'//*[@id=\"header\"]/div[2]/div/table/tbody/tr/td[2]/div/div/font/font/font/font/font/font/table/tbody/tr[4]/td/form/table/tbody/tr[2]/td[2]/input[1]')\n",
    "inputElement.send_keys('0')\n",
    "\n",
    "# Click the search button\n",
    "inputElement1 = browser.find_element(By.XPATH,'//*[@id=\"header\"]/div[2]/div/table/tbody/tr/td[2]/div/div/font/font/font/font/font/font/table/tbody/tr[4]/td/form/table/tbody/tr[10]/td/input[1]').click()\n",
    "sleep(4)\n",
    "\n",
    "# Initialize empty list to store all pages' data\n",
    "all_pages_data = []\n",
    "\n",
    "# Define a flag for whether to continue scraping\n",
    "continue_scraping = True\n",
    "\n",
    "while continue_scraping:\n",
    "    # Scrape the current page\n",
    "    current_page_data = scrape_current_page(browser)\n",
    "    all_pages_data.extend(current_page_data)\n",
    "    \n",
    "    try:\n",
    "        # Attempt to find and click the 'Next' button\n",
    "        next_button = browser.find_element(By.LINK_TEXT, 'Next')\n",
    "        next_button.click()\n",
    "        sleep(4)  # Wait for the next page to load\n",
    "    except NoSuchElementException:\n",
    "        # If 'Next' button is not found, exit the loop\n",
    "        continue_scraping = False\n",
    "\n",
    "# Now close the browser\n",
    "browser.quit()\n",
    "\n"
   ]
  },
  {
   "cell_type": "markdown",
   "metadata": {},
   "source": [
    "### Step 1.2: Scrape the Website and Create DataFrame"
   ]
  },
  {
   "cell_type": "code",
   "execution_count": 2,
   "metadata": {},
   "outputs": [
    {
     "data": {
      "text/html": [
       "<div>\n",
       "<style scoped>\n",
       "    .dataframe tbody tr th:only-of-type {\n",
       "        vertical-align: middle;\n",
       "    }\n",
       "\n",
       "    .dataframe tbody tr th {\n",
       "        vertical-align: top;\n",
       "    }\n",
       "\n",
       "    .dataframe thead th {\n",
       "        text-align: right;\n",
       "    }\n",
       "</style>\n",
       "<table border=\"1\" class=\"dataframe\">\n",
       "  <thead>\n",
       "    <tr style=\"text-align: right;\">\n",
       "      <th></th>\n",
       "      <th>Organization Name</th>\n",
       "      <th>NY Reg #</th>\n",
       "      <th>EIN</th>\n",
       "      <th>Registrant Type</th>\n",
       "      <th>City</th>\n",
       "      <th>State</th>\n",
       "    </tr>\n",
       "  </thead>\n",
       "  <tbody>\n",
       "    <tr>\n",
       "      <th>0</th>\n",
       "      <td>\"Forever Captain Poodaman\" The Ahmad Butler Fo...</td>\n",
       "      <td>48-07-16</td>\n",
       "      <td>843800926</td>\n",
       "      <td>NFP</td>\n",
       "      <td>PHILADELPHIA</td>\n",
       "      <td>PA</td>\n",
       "    </tr>\n",
       "    <tr>\n",
       "      <th>1</th>\n",
       "      <td>\"Incredibly Blessed\" Inc</td>\n",
       "      <td>49-54-61</td>\n",
       "      <td>842071758</td>\n",
       "      <td>NFP</td>\n",
       "      <td>STATEN ISLAND</td>\n",
       "      <td>NY</td>\n",
       "    </tr>\n",
       "    <tr>\n",
       "      <th>2</th>\n",
       "      <td>\"R\" S.U.C.C.E.S.S. Foundation Inc.</td>\n",
       "      <td>49-06-59</td>\n",
       "      <td>874012670</td>\n",
       "      <td>NFP</td>\n",
       "      <td>ROCHESTER</td>\n",
       "      <td>NY</td>\n",
       "    </tr>\n",
       "    <tr>\n",
       "      <th>3</th>\n",
       "      <td>\"Studio 5404\" Inc.</td>\n",
       "      <td>44-39-58</td>\n",
       "      <td>463180470</td>\n",
       "      <td>NFP</td>\n",
       "      <td>MASSAPAQUA</td>\n",
       "      <td>NY</td>\n",
       "    </tr>\n",
       "    <tr>\n",
       "      <th>4</th>\n",
       "      <td>\"THEY ARE HAITIAN\" FUND, INC.</td>\n",
       "      <td>20-63-46</td>\n",
       "      <td>300170128</td>\n",
       "      <td>NFP</td>\n",
       "      <td>HUDSON</td>\n",
       "      <td>NY</td>\n",
       "    </tr>\n",
       "    <tr>\n",
       "      <th>...</th>\n",
       "      <td>...</td>\n",
       "      <td>...</td>\n",
       "      <td>...</td>\n",
       "      <td>...</td>\n",
       "      <td>...</td>\n",
       "      <td>...</td>\n",
       "    </tr>\n",
       "    <tr>\n",
       "      <th>95</th>\n",
       "      <td>University of Virginia Health Foundtion</td>\n",
       "      <td>40-44-88</td>\n",
       "      <td>412097394</td>\n",
       "      <td>NFP</td>\n",
       "      <td>CHARLOTTESVILLE</td>\n",
       "      <td>VA</td>\n",
       "    </tr>\n",
       "    <tr>\n",
       "      <th>96</th>\n",
       "      <td>Violin Player</td>\n",
       "      <td>41-40-19</td>\n",
       "      <td>270773158</td>\n",
       "      <td>NFP</td>\n",
       "      <td>LONDONDERRY</td>\n",
       "      <td>NH</td>\n",
       "    </tr>\n",
       "    <tr>\n",
       "      <th>97</th>\n",
       "      <td>William A. Epps Community Center, Inc.</td>\n",
       "      <td>40-91-11</td>\n",
       "      <td>861074714</td>\n",
       "      <td>NFP</td>\n",
       "      <td>STATEN ISLAND</td>\n",
       "      <td>NY</td>\n",
       "    </tr>\n",
       "    <tr>\n",
       "      <th>98</th>\n",
       "      <td>WORLD SOCIETY OF CZESTOCHOWA JEWS AND THEIR DE...</td>\n",
       "      <td>40-46-49</td>\n",
       "      <td>205101779</td>\n",
       "      <td>NFP</td>\n",
       "      <td>NEW YORK</td>\n",
       "      <td>NY</td>\n",
       "    </tr>\n",
       "    <tr>\n",
       "      <th>99</th>\n",
       "      <td>Yum-O Organization, Inc.</td>\n",
       "      <td>40-50-07</td>\n",
       "      <td>208107545</td>\n",
       "      <td>NFP</td>\n",
       "      <td>NEW YORK</td>\n",
       "      <td>NY</td>\n",
       "    </tr>\n",
       "  </tbody>\n",
       "</table>\n",
       "<p>100 rows × 6 columns</p>\n",
       "</div>"
      ],
      "text/plain": [
       "                                    Organization Name  NY Reg #        EIN  \\\n",
       "0   \"Forever Captain Poodaman\" The Ahmad Butler Fo...  48-07-16  843800926   \n",
       "1                            \"Incredibly Blessed\" Inc  49-54-61  842071758   \n",
       "2                  \"R\" S.U.C.C.E.S.S. Foundation Inc.  49-06-59  874012670   \n",
       "3                                  \"Studio 5404\" Inc.  44-39-58  463180470   \n",
       "4                       \"THEY ARE HAITIAN\" FUND, INC.  20-63-46  300170128   \n",
       "..                                                ...       ...        ...   \n",
       "95            University of Virginia Health Foundtion  40-44-88  412097394   \n",
       "96                                      Violin Player  41-40-19  270773158   \n",
       "97             William A. Epps Community Center, Inc.  40-91-11  861074714   \n",
       "98  WORLD SOCIETY OF CZESTOCHOWA JEWS AND THEIR DE...  40-46-49  205101779   \n",
       "99                           Yum-O Organization, Inc.  40-50-07  208107545   \n",
       "\n",
       "   Registrant Type             City State  \n",
       "0              NFP     PHILADELPHIA    PA  \n",
       "1              NFP    STATEN ISLAND    NY  \n",
       "2              NFP        ROCHESTER    NY  \n",
       "3              NFP       MASSAPAQUA    NY  \n",
       "4              NFP           HUDSON    NY  \n",
       "..             ...              ...   ...  \n",
       "95             NFP  CHARLOTTESVILLE    VA  \n",
       "96             NFP      LONDONDERRY    NH  \n",
       "97             NFP    STATEN ISLAND    NY  \n",
       "98             NFP         NEW YORK    NY  \n",
       "99             NFP         NEW YORK    NY  \n",
       "\n",
       "[100 rows x 6 columns]"
      ]
     },
     "execution_count": 2,
     "metadata": {},
     "output_type": "execute_result"
    }
   ],
   "source": [
    "# Filter out the header rows that appear on every page\n",
    "all_pages_data = [row for row in all_pages_data if not (row and row[0].startswith('Organization Name'))]\n",
    "\n",
    "# Create a DataFrame from the collected data\n",
    "df = pd.DataFrame(all_pages_data, columns=[\"Organization Name\", \"NY Reg #\", \"EIN\", \"Registrant Type\", \"City\", \"State\"])\n",
    "\n",
    "# Display the DataFrame\n",
    "df\n"
   ]
  },
  {
   "cell_type": "markdown",
   "metadata": {},
   "source": [
    "### Step 1.3: Create an S3 Bucket"
   ]
  },
  {
   "cell_type": "code",
   "execution_count": 4,
   "metadata": {},
   "outputs": [
    {
     "name": "stdout",
     "output_type": "stream",
     "text": [
      "Bucket 'm-10-assignment-ashishrogannagari' created successfully.\n"
     ]
    }
   ],
   "source": [
    "import awscli\n",
    "import boto3\n",
    "# Initialize S3 client without specifying the region\n",
    "s3 = boto3.client('s3')\n",
    "\n",
    "# Create a unique bucket name\n",
    "bucket_name = 'm-10-assignment-ashishrogannagari'\n",
    "\n",
    "# Create S3 bucket\n",
    "s3.create_bucket(Bucket=bucket_name)\n",
    "\n",
    "print(f\"Bucket '{bucket_name}' created successfully.\")"
   ]
  },
  {
   "cell_type": "markdown",
   "metadata": {},
   "source": [
    "### Step 1.4:  Convert it into csv and Load Data into S3 Bucket\n",
    "###### add the timestamp."
   ]
  },
  {
   "cell_type": "code",
   "execution_count": 6,
   "metadata": {},
   "outputs": [
    {
     "name": "stdout",
     "output_type": "stream",
     "text": [
      " Succesfully File : charities_bureau_scrape_2024-04-13_16-01-10.csv uploaded to s3 bucket: m-10-assignment-ashishrogannagari\n"
     ]
    }
   ],
   "source": [
    "import awscli\n",
    "import boto3\n",
    "import pandas as pd\n",
    "from io import StringIO  # For handling CSV content as a string buffer\n",
    "from datetime import datetime  # For generating timestamps\n",
    "\n",
    "# Assuming 'df' is your final DataFrame\n",
    "csv_buffer = StringIO()\n",
    "df.to_csv(csv_buffer)\n",
    "\n",
    "# Generate timestamp\n",
    "timestamp = datetime.now().strftime(\"%Y-%m-%d_%H-%M-%S\")\n",
    "\n",
    "# Initialize an S3 client using boto3\n",
    "s3_resource = boto3.resource('s3')\n",
    "bucket_name = 'm-10-assignment-ashishrogannagari'  # Replace with your bucket name\n",
    "file_name = f'charities_bureau_scrape_{timestamp}.csv'  # Append timestamp to file name\n",
    "\n",
    "# Upload the CSV file\n",
    "s3_resource.Object(bucket_name, file_name).put(Body=csv_buffer.getvalue())\n",
    "\n",
    "print(f\" Succesfully File : {file_name} uploaded to s3 bucket: {bucket_name}\")\n"
   ]
  },
  {
   "cell_type": "markdown",
   "metadata": {},
   "source": [
    "### Step 1.5: Check the Objects in the S3 bucket.\n",
    "   ###### for cross verification. "
   ]
  },
  {
   "cell_type": "code",
   "execution_count": 8,
   "metadata": {},
   "outputs": [
    {
     "name": "stdout",
     "output_type": "stream",
     "text": [
      "Objects in the bucket:\n",
      "charities_bureau_scrape_2024-04-13_16-01-10.csv\n"
     ]
    }
   ],
   "source": [
    "s3_client = boto3.client('s3')\n",
    "\n",
    "# Specify the bucket name\n",
    "bucket_name = 'm-10-assignment-ashishrogannagari'\n",
    "\n",
    "# List objects in the bucket\n",
    "response = s3_client.list_objects_v2(Bucket=bucket_name)\n",
    "\n",
    "# Print the list of objects\n",
    "if 'Contents' in response:\n",
    "    print(\"Objects in the bucket:\")\n",
    "    for obj in response['Contents']:\n",
    "        print(obj['Key'])\n",
    "else:\n",
    "    print(\"The bucket is empty or does not exist.\")"
   ]
  },
  {
   "cell_type": "markdown",
   "metadata": {},
   "source": [
    "Sucessfully Completed scrapping the data from  website and converted it into df and loaded into AWS s3 bucket.\n"
   ]
  },
  {
   "cell_type": "markdown",
   "metadata": {},
   "source": [
    "### Step 2: Perform Data Cleaning\n"
   ]
  },
  {
   "cell_type": "markdown",
   "metadata": {},
   "source": [
    "##### The csv data we uploaded it has a empty rows, so we need to remove and also adjust the index."
   ]
  },
  {
   "cell_type": "code",
   "execution_count": 9,
   "metadata": {},
   "outputs": [],
   "source": [
    "# Remove the first row with null values.\n",
    "\n",
    "df = df[1:]  \n",
    "\n",
    "# Reset index starting from 0\n",
    "\n",
    "df.reset_index(drop=True, inplace=True)\n",
    "\n",
    "# Increment index by 1 to start from 1.\n",
    "\n",
    "df.index += 1  \n"
   ]
  },
  {
   "cell_type": "markdown",
   "metadata": {},
   "source": [
    "##### Make a copy of DataFrame df and assign it to df1"
   ]
  },
  {
   "cell_type": "code",
   "execution_count": 10,
   "metadata": {},
   "outputs": [],
   "source": [
    "df1= df"
   ]
  },
  {
   "cell_type": "markdown",
   "metadata": {},
   "source": [
    "#### Let's call df1 to check whether it has removed the empty values or not."
   ]
  },
  {
   "cell_type": "code",
   "execution_count": 11,
   "metadata": {},
   "outputs": [
    {
     "data": {
      "text/html": [
       "<div>\n",
       "<style scoped>\n",
       "    .dataframe tbody tr th:only-of-type {\n",
       "        vertical-align: middle;\n",
       "    }\n",
       "\n",
       "    .dataframe tbody tr th {\n",
       "        vertical-align: top;\n",
       "    }\n",
       "\n",
       "    .dataframe thead th {\n",
       "        text-align: right;\n",
       "    }\n",
       "</style>\n",
       "<table border=\"1\" class=\"dataframe\">\n",
       "  <thead>\n",
       "    <tr style=\"text-align: right;\">\n",
       "      <th></th>\n",
       "      <th>Organization Name</th>\n",
       "      <th>NY Reg #</th>\n",
       "      <th>EIN</th>\n",
       "      <th>Registrant Type</th>\n",
       "      <th>City</th>\n",
       "      <th>State</th>\n",
       "    </tr>\n",
       "  </thead>\n",
       "  <tbody>\n",
       "    <tr>\n",
       "      <th>1</th>\n",
       "      <td>\"Incredibly Blessed\" Inc</td>\n",
       "      <td>49-54-61</td>\n",
       "      <td>842071758</td>\n",
       "      <td>NFP</td>\n",
       "      <td>STATEN ISLAND</td>\n",
       "      <td>NY</td>\n",
       "    </tr>\n",
       "    <tr>\n",
       "      <th>2</th>\n",
       "      <td>\"R\" S.U.C.C.E.S.S. Foundation Inc.</td>\n",
       "      <td>49-06-59</td>\n",
       "      <td>874012670</td>\n",
       "      <td>NFP</td>\n",
       "      <td>ROCHESTER</td>\n",
       "      <td>NY</td>\n",
       "    </tr>\n",
       "    <tr>\n",
       "      <th>3</th>\n",
       "      <td>\"Studio 5404\" Inc.</td>\n",
       "      <td>44-39-58</td>\n",
       "      <td>463180470</td>\n",
       "      <td>NFP</td>\n",
       "      <td>MASSAPAQUA</td>\n",
       "      <td>NY</td>\n",
       "    </tr>\n",
       "    <tr>\n",
       "      <th>4</th>\n",
       "      <td>\"THEY ARE HAITIAN\" FUND, INC.</td>\n",
       "      <td>20-63-46</td>\n",
       "      <td>300170128</td>\n",
       "      <td>NFP</td>\n",
       "      <td>HUDSON</td>\n",
       "      <td>NY</td>\n",
       "    </tr>\n",
       "    <tr>\n",
       "      <th>5</th>\n",
       "      <td>\"Y\" Dive, Inc.</td>\n",
       "      <td>48-45-01</td>\n",
       "      <td>854252095</td>\n",
       "      <td>NFP</td>\n",
       "      <td>SAINT ALBANS</td>\n",
       "      <td>NY</td>\n",
       "    </tr>\n",
       "    <tr>\n",
       "      <th>...</th>\n",
       "      <td>...</td>\n",
       "      <td>...</td>\n",
       "      <td>...</td>\n",
       "      <td>...</td>\n",
       "      <td>...</td>\n",
       "      <td>...</td>\n",
       "    </tr>\n",
       "    <tr>\n",
       "      <th>95</th>\n",
       "      <td>University of Virginia Health Foundtion</td>\n",
       "      <td>40-44-88</td>\n",
       "      <td>412097394</td>\n",
       "      <td>NFP</td>\n",
       "      <td>CHARLOTTESVILLE</td>\n",
       "      <td>VA</td>\n",
       "    </tr>\n",
       "    <tr>\n",
       "      <th>96</th>\n",
       "      <td>Violin Player</td>\n",
       "      <td>41-40-19</td>\n",
       "      <td>270773158</td>\n",
       "      <td>NFP</td>\n",
       "      <td>LONDONDERRY</td>\n",
       "      <td>NH</td>\n",
       "    </tr>\n",
       "    <tr>\n",
       "      <th>97</th>\n",
       "      <td>William A. Epps Community Center, Inc.</td>\n",
       "      <td>40-91-11</td>\n",
       "      <td>861074714</td>\n",
       "      <td>NFP</td>\n",
       "      <td>STATEN ISLAND</td>\n",
       "      <td>NY</td>\n",
       "    </tr>\n",
       "    <tr>\n",
       "      <th>98</th>\n",
       "      <td>WORLD SOCIETY OF CZESTOCHOWA JEWS AND THEIR DE...</td>\n",
       "      <td>40-46-49</td>\n",
       "      <td>205101779</td>\n",
       "      <td>NFP</td>\n",
       "      <td>NEW YORK</td>\n",
       "      <td>NY</td>\n",
       "    </tr>\n",
       "    <tr>\n",
       "      <th>99</th>\n",
       "      <td>Yum-O Organization, Inc.</td>\n",
       "      <td>40-50-07</td>\n",
       "      <td>208107545</td>\n",
       "      <td>NFP</td>\n",
       "      <td>NEW YORK</td>\n",
       "      <td>NY</td>\n",
       "    </tr>\n",
       "  </tbody>\n",
       "</table>\n",
       "<p>99 rows × 6 columns</p>\n",
       "</div>"
      ],
      "text/plain": [
       "                                    Organization Name  NY Reg #        EIN  \\\n",
       "1                            \"Incredibly Blessed\" Inc  49-54-61  842071758   \n",
       "2                  \"R\" S.U.C.C.E.S.S. Foundation Inc.  49-06-59  874012670   \n",
       "3                                  \"Studio 5404\" Inc.  44-39-58  463180470   \n",
       "4                       \"THEY ARE HAITIAN\" FUND, INC.  20-63-46  300170128   \n",
       "5                                      \"Y\" Dive, Inc.  48-45-01  854252095   \n",
       "..                                                ...       ...        ...   \n",
       "95            University of Virginia Health Foundtion  40-44-88  412097394   \n",
       "96                                      Violin Player  41-40-19  270773158   \n",
       "97             William A. Epps Community Center, Inc.  40-91-11  861074714   \n",
       "98  WORLD SOCIETY OF CZESTOCHOWA JEWS AND THEIR DE...  40-46-49  205101779   \n",
       "99                           Yum-O Organization, Inc.  40-50-07  208107545   \n",
       "\n",
       "   Registrant Type             City State  \n",
       "1              NFP    STATEN ISLAND    NY  \n",
       "2              NFP        ROCHESTER    NY  \n",
       "3              NFP       MASSAPAQUA    NY  \n",
       "4              NFP           HUDSON    NY  \n",
       "5              NFP     SAINT ALBANS    NY  \n",
       "..             ...              ...   ...  \n",
       "95             NFP  CHARLOTTESVILLE    VA  \n",
       "96             NFP      LONDONDERRY    NH  \n",
       "97             NFP    STATEN ISLAND    NY  \n",
       "98             NFP         NEW YORK    NY  \n",
       "99             NFP         NEW YORK    NY  \n",
       "\n",
       "[99 rows x 6 columns]"
      ]
     },
     "execution_count": 11,
     "metadata": {},
     "output_type": "execute_result"
    }
   ],
   "source": [
    "df1"
   ]
  },
  {
   "cell_type": "markdown",
   "metadata": {},
   "source": [
    "### Step 2.1 : Upload the updated df1 data into the s3 bucket."
   ]
  },
  {
   "cell_type": "code",
   "execution_count": 12,
   "metadata": {},
   "outputs": [
    {
     "name": "stdout",
     "output_type": "stream",
     "text": [
      "File Updated_csv_charities_bureau_scrape_2024-04-13_16-06-00.csv uploaded to m-10-assignment-ashishrogannagari\n"
     ]
    }
   ],
   "source": [
    "import awscli\n",
    "import boto3\n",
    "import pandas as pd\n",
    "from io import StringIO  # For handling CSV content as a string buffer\n",
    "from datetime import datetime  # For generating timestamps\n",
    "\n",
    "# Assuming 'df' is your final DataFrame\n",
    "csv_buffer = StringIO()\n",
    "df1.to_csv(csv_buffer)\n",
    "\n",
    "# Generate timestamp\n",
    "timestamp = datetime.now().strftime(\"%Y-%m-%d_%H-%M-%S\")\n",
    "\n",
    "# Initialize an S3 client using boto3\n",
    "s3_resource = boto3.resource('s3')\n",
    "bucket_name = 'm-10-assignment-ashishrogannagari'  \n",
    "file_name = f'Updated_csv_charities_bureau_scrape_{timestamp}.csv'  # Append timestamp to file name\n",
    "\n",
    "# Upload the CSV file\n",
    "s3_resource.Object(bucket_name, file_name).put(Body=csv_buffer.getvalue())\n",
    "\n",
    "print(f\"File {file_name} uploaded to {bucket_name}\")\n"
   ]
  },
  {
   "cell_type": "markdown",
   "metadata": {},
   "source": [
    "### Step 2.2 : Check the Objects in the S3 bucket.."
   ]
  },
  {
   "cell_type": "code",
   "execution_count": 14,
   "metadata": {},
   "outputs": [
    {
     "name": "stdout",
     "output_type": "stream",
     "text": [
      "Objects in the bucket:\n",
      "Updated_csv_charities_bureau_scrape_2024-04-13_16-06-00.csv\n",
      "charities_bureau_scrape_2024-04-13_16-01-10.csv\n"
     ]
    }
   ],
   "source": [
    "\n",
    "# Initialize an S3 client using boto3\n",
    "s3_client = boto3.client('s3')\n",
    "\n",
    "# Specify the bucket name\n",
    "bucket_name = 'm-10-assignment-ashishrogannagari'  # Replace with your bucket name\n",
    "\n",
    "# List objects in the bucket\n",
    "response = s3_client.list_objects_v2(Bucket=bucket_name)\n",
    "\n",
    "# Print the list of objects\n",
    "if 'Contents' in response:\n",
    "    print(\"Objects in the bucket:\")\n",
    "    for obj in response['Contents']:\n",
    "        print(obj['Key'])\n",
    "else:\n",
    "    print(\"The bucket is empty or does not exist.\")\n"
   ]
  },
  {
   "cell_type": "markdown",
   "metadata": {},
   "source": [
    "## References\n",
    "* https://www.programiz.com/python-programming/working-csv-files\n",
    "* https://boto3.amazonaws.com/v1/documentation/api/latest/reference/services/s3.html#S3.Client.create_bucket\n",
    "* https://realpython.com/python-boto3-aws-s3/\n",
    "* https://robertorocha.info/setting-up-a-selenium-web-scraper-on-aws-lambda-with-python/ "
   ]
  },
  {
   "cell_type": "markdown",
   "metadata": {},
   "source": [
    "<center>\n",
    "\n",
    "# Thank you\n",
    "\n",
    "</center>\n"
   ]
  }
 ],
 "metadata": {
  "kernelspec": {
   "display_name": "Python 3",
   "language": "python",
   "name": "python3"
  },
  "language_info": {
   "codemirror_mode": {
    "name": "ipython",
    "version": 3
   },
   "file_extension": ".py",
   "mimetype": "text/x-python",
   "name": "python",
   "nbconvert_exporter": "python",
   "pygments_lexer": "ipython3",
   "version": "3.10.4"
  }
 },
 "nbformat": 4,
 "nbformat_minor": 2
}
